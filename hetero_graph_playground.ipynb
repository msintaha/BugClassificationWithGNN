{
 "cells": [
  {
   "cell_type": "code",
   "execution_count": 1,
   "id": "reliable-greeting",
   "metadata": {},
   "outputs": [
    {
     "name": "stderr",
     "output_type": "stream",
     "text": [
      "Using backend: pytorch\n"
     ]
    }
   ],
   "source": [
    "import dgl\n",
    "import torch as th\n",
    "\n",
    "correct_binOps = dgl.heterograph(\n",
    "    {('nodeType', 'precedes', 'nodeType') : [(0, 1)],\n",
    "     ('nodeType', 'precedes', 'type') : [(0, 0), (0, 1)],\n",
    "     ('nodeType', 'precedes', 'operator') : [(0, 0)],\n",
    "     ('type', 'precedes', 'token') : [(0, 0), (1, 1)],\n",
    "     ('token', 'follows', 'operator') : [(0, 0)],\n",
    "     ('operator', 'follows', 'token') : [(0, 0)]})\n",
    "\n",
    "incorrect_binary_operator = dgl.heterograph(\n",
    "    {('nodeType', 'precedes', 'nodeType') : [(0, 1)],\n",
    "     ('nodeType', 'precedes', 'type') : [(0, 0), (0, 1)],\n",
    "     ('nodeType', 'precedes', 'otherOperator') : [(0, 0)],\n",
    "     ('type', 'precedes', 'token') : [(0, 0), (1, 1)],\n",
    "     ('token', 'follows', 'otherOperator') : [(0, 0)],\n",
    "     ('otherOperator', 'follows', 'token') : [(0, 0)]})\n",
    "\n",
    "incorrect_binary_operand_left = dgl.heterograph(\n",
    "    {('nodeType', 'precedes', 'nodeType') : [(0, 1)],\n",
    "     ('nodeType', 'precedes', 'type') : [(0, 0), (0, 1)],\n",
    "     ('nodeType', 'precedes', 'operator') : [(0, 0)],\n",
    "     ('type', 'precedes', 'token') : [(0, 0), (1, 1)],\n",
    "     ('token', 'follows', 'operator') : [(0, 0)],\n",
    "     ('operator', 'follows', 'token') : [(0, 0)]})\n",
    "\n",
    "correct_calls = dgl.heterograph(\n",
    "    {('token', 'precedes', 'token') : [(0, 1), (1, 2), (1, 3)],\n",
    "     ('token', 'precedes', 'type') : [(2, 0), (3, 1)],\n",
    "     ('type', 'precedes', 'token') : [(0, 4), (1, 5)],\n",
    "     ('token', 'follows', 'token') : [(2, 3), (4, 5)]})\n",
    "\n",
    "swapped_calls = dgl.heterograph(\n",
    "    {('token', 'precedes', 'token') : [(0, 1), (1, 2), (1, 3)],\n",
    "     ('token', 'precedes', 'type') : [(2, 0), (3, 1)],\n",
    "     ('type', 'precedes', 'token') : [(0, 4), (1, 5)],\n",
    "     ('token', 'follows', 'token') : [(3, 2), (5, 4)]})\n",
    "     \n"
   ]
  },
  {
   "cell_type": "code",
   "execution_count": 6,
   "id": "stone-fifth",
   "metadata": {},
   "outputs": [
    {
     "name": "stdout",
     "output_type": "stream",
     "text": [
      "['follows', 'precedes', 'precedes', 'precedes']\n"
     ]
    }
   ],
   "source": [
    "print(swapped_calls.etypes)"
   ]
  },
  {
   "cell_type": "code",
   "execution_count": 3,
   "id": "wanted-alarm",
   "metadata": {},
   "outputs": [
    {
     "name": "stdout",
     "output_type": "stream",
     "text": [
      "<bound method DGLHeteroGraph.metagraph of Graph(num_nodes={'nodeType': 2, 'operator': 1, 'token': 2, 'type': 2},\n",
      "      num_edges={('nodeType', 'precedes', 'nodeType'): 1, ('nodeType', 'precedes', 'operator'): 1, ('nodeType', 'precedes', 'type'): 2, ('operator', 'follows', 'token'): 1, ('token', 'follows', 'operator'): 1, ('type', 'precedes', 'token'): 2},\n",
      "      metagraph=[('nodeType', 'nodeType', 'precedes'), ('nodeType', 'operator', 'precedes'), ('nodeType', 'type', 'precedes'), ('operator', 'token', 'follows'), ('type', 'token', 'precedes'), ('token', 'operator', 'follows')])>\n"
     ]
    }
   ],
   "source": [
    "print(correct_binOps.metagraph)"
   ]
  },
  {
   "cell_type": "code",
   "execution_count": null,
   "id": "educational-offset",
   "metadata": {},
   "outputs": [],
   "source": []
  }
 ],
 "metadata": {
  "kernelspec": {
   "display_name": "Python 3",
   "language": "python",
   "name": "python3"
  },
  "language_info": {
   "codemirror_mode": {
    "name": "ipython",
    "version": 3
   },
   "file_extension": ".py",
   "mimetype": "text/x-python",
   "name": "python",
   "nbconvert_exporter": "python",
   "pygments_lexer": "ipython3",
   "version": "3.7.1"
  }
 },
 "nbformat": 4,
 "nbformat_minor": 5
}
